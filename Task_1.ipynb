{
 "cells": [
  {
   "cell_type": "code",
   "execution_count": 1,
   "id": "ec1fc20d",
   "metadata": {},
   "outputs": [],
   "source": [
    "import numpy as np\n",
    "import pandas as pd "
   ]
  },
  {
   "cell_type": "markdown",
   "id": "d9249363",
   "metadata": {},
   "source": [
    "После загрузги библиотеки я сразу посмотрела, какие столбы загружаются, и оставила нужные, дабы при дальнейших загрузках на это не обращать внимание. "
   ]
  },
  {
   "cell_type": "code",
   "execution_count": 2,
   "id": "37aa6020",
   "metadata": {},
   "outputs": [
    {
     "data": {
      "text/html": [
       "<div>\n",
       "<style scoped>\n",
       "    .dataframe tbody tr th:only-of-type {\n",
       "        vertical-align: middle;\n",
       "    }\n",
       "\n",
       "    .dataframe tbody tr th {\n",
       "        vertical-align: top;\n",
       "    }\n",
       "\n",
       "    .dataframe thead th {\n",
       "        text-align: right;\n",
       "    }\n",
       "</style>\n",
       "<table border=\"1\" class=\"dataframe\">\n",
       "  <thead>\n",
       "    <tr style=\"text-align: right;\">\n",
       "      <th></th>\n",
       "      <th>area</th>\n",
       "      <th>cluster</th>\n",
       "      <th>cluster_name</th>\n",
       "      <th>keyword</th>\n",
       "      <th>count</th>\n",
       "      <th>x</th>\n",
       "      <th>y</th>\n",
       "    </tr>\n",
       "  </thead>\n",
       "  <tbody>\n",
       "    <tr>\n",
       "      <th>0</th>\n",
       "      <td>eligibility</td>\n",
       "      <td>0.0</td>\n",
       "      <td>Кластер 0</td>\n",
       "      <td>several animated buried</td>\n",
       "      <td>1260</td>\n",
       "      <td>5.772342</td>\n",
       "      <td>12.564796257345005</td>\n",
       "    </tr>\n",
       "    <tr>\n",
       "      <th>1</th>\n",
       "      <td>eligibility</td>\n",
       "      <td>0.0</td>\n",
       "      <td>Кластер 0</td>\n",
       "      <td>singles unusual buyers</td>\n",
       "      <td>866</td>\n",
       "      <td>14.829280</td>\n",
       "      <td>7.8507285727125815</td>\n",
       "    </tr>\n",
       "    <tr>\n",
       "      <th>2</th>\n",
       "      <td>eligibility</td>\n",
       "      <td>0.0</td>\n",
       "      <td>Кластер 0</td>\n",
       "      <td>hawaiian directive</td>\n",
       "      <td>163</td>\n",
       "      <td>11.381856</td>\n",
       "      <td>3.8981370219558604</td>\n",
       "    </tr>\n",
       "    <tr>\n",
       "      <th>3</th>\n",
       "      <td>eligibility</td>\n",
       "      <td>0.0</td>\n",
       "      <td>Кластер 0</td>\n",
       "      <td>dynamics directly</td>\n",
       "      <td>1146</td>\n",
       "      <td>9.980149</td>\n",
       "      <td>6.281427914064545</td>\n",
       "    </tr>\n",
       "    <tr>\n",
       "      <th>4</th>\n",
       "      <td>eligibility</td>\n",
       "      <td>1.0</td>\n",
       "      <td>Кластер 1</td>\n",
       "      <td>decision surgeons montreal</td>\n",
       "      <td>823</td>\n",
       "      <td>3.283940</td>\n",
       "      <td>4.39674063521296</td>\n",
       "    </tr>\n",
       "  </tbody>\n",
       "</table>\n",
       "</div>"
      ],
      "text/plain": [
       "          area  cluster cluster_name                     keyword count  \\\n",
       "0  eligibility      0.0    Кластер 0     several animated buried  1260   \n",
       "1  eligibility      0.0    Кластер 0      singles unusual buyers   866   \n",
       "2  eligibility      0.0    Кластер 0          hawaiian directive   163   \n",
       "3  eligibility      0.0    Кластер 0           dynamics directly  1146   \n",
       "4  eligibility      1.0    Кластер 1  decision surgeons montreal   823   \n",
       "\n",
       "           x                   y  \n",
       "0   5.772342  12.564796257345005  \n",
       "1  14.829280  7.8507285727125815  \n",
       "2  11.381856  3.8981370219558604  \n",
       "3   9.980149   6.281427914064545  \n",
       "4   3.283940    4.39674063521296  "
      ]
     },
     "execution_count": 2,
     "metadata": {},
     "output_type": "execute_result"
    }
   ],
   "source": [
    "data_xl = pd.ExcelFile(\"test_task.xlsx\")\n",
    "data = data_xl.parse(data_xl.sheet_names[0])\n",
    "data.drop('good (1)', axis= 1 , inplace= True )\n",
    "data.head()"
   ]
  },
  {
   "cell_type": "markdown",
   "id": "456f9d8c",
   "metadata": {},
   "source": [
    "Прежде чем что-то делать, надо узнать есть ли пропуски. "
   ]
  },
  {
   "cell_type": "code",
   "execution_count": 3,
   "id": "cd816f0b",
   "metadata": {},
   "outputs": [
    {
     "name": "stdout",
     "output_type": "stream",
     "text": [
      "<class 'pandas.core.frame.DataFrame'>\n",
      "RangeIndex: 229 entries, 0 to 228\n",
      "Data columns (total 7 columns):\n",
      " #   Column        Non-Null Count  Dtype  \n",
      "---  ------        --------------  -----  \n",
      " 0   area          228 non-null    object \n",
      " 1   cluster       228 non-null    float64\n",
      " 2   cluster_name  228 non-null    object \n",
      " 3   keyword       228 non-null    object \n",
      " 4   count         227 non-null    object \n",
      " 5   x             228 non-null    float64\n",
      " 6   y             228 non-null    object \n",
      "dtypes: float64(2), object(5)\n",
      "memory usage: 12.6+ KB\n"
     ]
    }
   ],
   "source": [
    "data.info()"
   ]
  },
  {
   "cell_type": "code",
   "execution_count": 4,
   "id": "56fd4be6",
   "metadata": {},
   "outputs": [
    {
     "name": "stdout",
     "output_type": "stream",
     "text": [
      "['0x414fe002']\n"
     ]
    }
   ],
   "source": [
    "b = []\n",
    "for i in data['y']:\n",
    "    try:\n",
    "        a = float(i)\n",
    "    except:\n",
    "        b.append(i)\n",
    "print(b)        \n",
    "data = data.drop(index = data.index[data['y'].isin(b)]) # удаляю не числовые строки \n",
    "data['y'] = data['y'].astype (float)"
   ]
  },
  {
   "cell_type": "code",
   "execution_count": 5,
   "id": "7afe9b2e",
   "metadata": {},
   "outputs": [
    {
     "data": {
      "text/plain": [
       "area            1\n",
       "cluster         1\n",
       "cluster_name    1\n",
       "keyword         1\n",
       "count           2\n",
       "x               1\n",
       "y               1\n",
       "dtype: int64"
      ]
     },
     "execution_count": 5,
     "metadata": {},
     "output_type": "execute_result"
    }
   ],
   "source": [
    "data.isnull().sum()[lambda x: x>0]"
   ]
  },
  {
   "cell_type": "markdown",
   "id": "a542fe3e",
   "metadata": {},
   "source": [
    "Выяснилось, что они есть. Но в странном соотношении. Надо бы посмотреть на эти пропуски. "
   ]
  },
  {
   "cell_type": "code",
   "execution_count": 6,
   "id": "ac788faa",
   "metadata": {},
   "outputs": [
    {
     "data": {
      "text/html": [
       "<div>\n",
       "<style scoped>\n",
       "    .dataframe tbody tr th:only-of-type {\n",
       "        vertical-align: middle;\n",
       "    }\n",
       "\n",
       "    .dataframe tbody tr th {\n",
       "        vertical-align: top;\n",
       "    }\n",
       "\n",
       "    .dataframe thead th {\n",
       "        text-align: right;\n",
       "    }\n",
       "</style>\n",
       "<table border=\"1\" class=\"dataframe\">\n",
       "  <thead>\n",
       "    <tr style=\"text-align: right;\">\n",
       "      <th></th>\n",
       "      <th>area</th>\n",
       "      <th>cluster</th>\n",
       "      <th>cluster_name</th>\n",
       "      <th>keyword</th>\n",
       "      <th>count</th>\n",
       "      <th>x</th>\n",
       "      <th>y</th>\n",
       "    </tr>\n",
       "  </thead>\n",
       "  <tbody>\n",
       "    <tr>\n",
       "      <th>179</th>\n",
       "      <td>housewives</td>\n",
       "      <td>3.0</td>\n",
       "      <td>Кластер 3</td>\n",
       "      <td>florida reserved</td>\n",
       "      <td>1347</td>\n",
       "      <td>7.503056</td>\n",
       "      <td>8.610352</td>\n",
       "    </tr>\n",
       "    <tr>\n",
       "      <th>194</th>\n",
       "      <td>dialog</td>\n",
       "      <td>2.0</td>\n",
       "      <td>Кластер 2</td>\n",
       "      <td>publicity mongolia</td>\n",
       "      <td>1839</td>\n",
       "      <td>0.619892</td>\n",
       "      <td>2.681503</td>\n",
       "    </tr>\n",
       "  </tbody>\n",
       "</table>\n",
       "</div>"
      ],
      "text/plain": [
       "           area  cluster cluster_name             keyword count         x  \\\n",
       "179  housewives      3.0    Кластер 3    florida reserved  1347  7.503056   \n",
       "194      dialog      2.0    Кластер 2  publicity mongolia  1839  0.619892   \n",
       "\n",
       "            y  \n",
       "179  8.610352  \n",
       "194  2.681503  "
      ]
     },
     "execution_count": 6,
     "metadata": {},
     "output_type": "execute_result"
    }
   ],
   "source": [
    "list_nan= data.index[data.isnull().any(axis=1)]\n",
    "data.iloc[list_nan]"
   ]
  },
  {
   "cell_type": "markdown",
   "id": "7f4fb989",
   "metadata": {},
   "source": [
    "Это оказалась целиком пустая строку, которую мы просто удалим. А вот с единичным значениме в инструкции нет ничего. Так бы по хорошему надо было б узнать, можно ли его заменить средним значением. Т.к. предполагаем, что тестовое мы делаем без вопросов, то эту строчку мы то же удаляем. "
   ]
  },
  {
   "cell_type": "code",
   "execution_count": 7,
   "id": "a653fad0",
   "metadata": {},
   "outputs": [],
   "source": [
    "data = data.drop(index = list_nan)"
   ]
  },
  {
   "cell_type": "code",
   "execution_count": 8,
   "id": "18086634",
   "metadata": {},
   "outputs": [
    {
     "data": {
      "text/plain": [
       "Series([], dtype: int64)"
      ]
     },
     "execution_count": 8,
     "metadata": {},
     "output_type": "execute_result"
    }
   ],
   "source": [
    "data.isnull().sum()[lambda x: x>0]"
   ]
  },
  {
   "cell_type": "markdown",
   "id": "e338eeb7",
   "metadata": {},
   "source": [
    "Все, пропусков у нас нет. \n",
    "В условии у нас указан порядок: area, cluster, cluster_name, keyword, x, y, count, color.\n",
    "\n",
    "Значит перемещаем столбец count в конец. Так же создаем и заполняем столбец color по правилам, которые есть в задании. "
   ]
  },
  {
   "cell_type": "code",
   "execution_count": 9,
   "id": "3b99a0e6",
   "metadata": {},
   "outputs": [
    {
     "data": {
      "text/html": [
       "<div>\n",
       "<style scoped>\n",
       "    .dataframe tbody tr th:only-of-type {\n",
       "        vertical-align: middle;\n",
       "    }\n",
       "\n",
       "    .dataframe tbody tr th {\n",
       "        vertical-align: top;\n",
       "    }\n",
       "\n",
       "    .dataframe thead th {\n",
       "        text-align: right;\n",
       "    }\n",
       "</style>\n",
       "<table border=\"1\" class=\"dataframe\">\n",
       "  <thead>\n",
       "    <tr style=\"text-align: right;\">\n",
       "      <th></th>\n",
       "      <th>area</th>\n",
       "      <th>cluster</th>\n",
       "      <th>cluster_name</th>\n",
       "      <th>keyword</th>\n",
       "      <th>x</th>\n",
       "      <th>y</th>\n",
       "      <th>count</th>\n",
       "    </tr>\n",
       "  </thead>\n",
       "  <tbody>\n",
       "    <tr>\n",
       "      <th>0</th>\n",
       "      <td>eligibility</td>\n",
       "      <td>0.0</td>\n",
       "      <td>Кластер 0</td>\n",
       "      <td>several animated buried</td>\n",
       "      <td>5.772342</td>\n",
       "      <td>12.564796</td>\n",
       "      <td>1260</td>\n",
       "    </tr>\n",
       "    <tr>\n",
       "      <th>1</th>\n",
       "      <td>eligibility</td>\n",
       "      <td>0.0</td>\n",
       "      <td>Кластер 0</td>\n",
       "      <td>singles unusual buyers</td>\n",
       "      <td>14.829280</td>\n",
       "      <td>7.850729</td>\n",
       "      <td>866</td>\n",
       "    </tr>\n",
       "    <tr>\n",
       "      <th>2</th>\n",
       "      <td>eligibility</td>\n",
       "      <td>0.0</td>\n",
       "      <td>Кластер 0</td>\n",
       "      <td>hawaiian directive</td>\n",
       "      <td>11.381856</td>\n",
       "      <td>3.898137</td>\n",
       "      <td>163</td>\n",
       "    </tr>\n",
       "    <tr>\n",
       "      <th>3</th>\n",
       "      <td>eligibility</td>\n",
       "      <td>0.0</td>\n",
       "      <td>Кластер 0</td>\n",
       "      <td>dynamics directly</td>\n",
       "      <td>9.980149</td>\n",
       "      <td>6.281428</td>\n",
       "      <td>1146</td>\n",
       "    </tr>\n",
       "    <tr>\n",
       "      <th>4</th>\n",
       "      <td>eligibility</td>\n",
       "      <td>1.0</td>\n",
       "      <td>Кластер 1</td>\n",
       "      <td>decision surgeons montreal</td>\n",
       "      <td>3.283940</td>\n",
       "      <td>4.396741</td>\n",
       "      <td>823</td>\n",
       "    </tr>\n",
       "  </tbody>\n",
       "</table>\n",
       "</div>"
      ],
      "text/plain": [
       "          area  cluster cluster_name                     keyword          x  \\\n",
       "0  eligibility      0.0    Кластер 0     several animated buried   5.772342   \n",
       "1  eligibility      0.0    Кластер 0      singles unusual buyers  14.829280   \n",
       "2  eligibility      0.0    Кластер 0          hawaiian directive  11.381856   \n",
       "3  eligibility      0.0    Кластер 0           dynamics directly   9.980149   \n",
       "4  eligibility      1.0    Кластер 1  decision surgeons montreal   3.283940   \n",
       "\n",
       "           y count  \n",
       "0  12.564796  1260  \n",
       "1   7.850729   866  \n",
       "2   3.898137   163  \n",
       "3   6.281428  1146  \n",
       "4   4.396741   823  "
      ]
     },
     "execution_count": 9,
     "metadata": {},
     "output_type": "execute_result"
    }
   ],
   "source": [
    "data = data[['area', 'cluster', 'cluster_name', 'keyword', 'x', 'y', 'count']]\n",
    "data.head()"
   ]
  },
  {
   "cell_type": "code",
   "execution_count": 10,
   "id": "6870c000",
   "metadata": {},
   "outputs": [
    {
     "name": "stderr",
     "output_type": "stream",
     "text": [
      "C:\\Users\\juiwa\\AppData\\Local\\Temp\\ipykernel_8860\\1155315422.py:1: FutureWarning: The default dtype for empty Series will be 'object' instead of 'float64' in a future version. Specify a dtype explicitly to silence this warning.\n",
      "  data['color'] = pd.Series()\n"
     ]
    },
    {
     "data": {
      "text/html": [
       "<div>\n",
       "<style scoped>\n",
       "    .dataframe tbody tr th:only-of-type {\n",
       "        vertical-align: middle;\n",
       "    }\n",
       "\n",
       "    .dataframe tbody tr th {\n",
       "        vertical-align: top;\n",
       "    }\n",
       "\n",
       "    .dataframe thead th {\n",
       "        text-align: right;\n",
       "    }\n",
       "</style>\n",
       "<table border=\"1\" class=\"dataframe\">\n",
       "  <thead>\n",
       "    <tr style=\"text-align: right;\">\n",
       "      <th></th>\n",
       "      <th>area</th>\n",
       "      <th>cluster</th>\n",
       "      <th>cluster_name</th>\n",
       "      <th>keyword</th>\n",
       "      <th>x</th>\n",
       "      <th>y</th>\n",
       "      <th>count</th>\n",
       "      <th>color</th>\n",
       "    </tr>\n",
       "  </thead>\n",
       "  <tbody>\n",
       "    <tr>\n",
       "      <th>0</th>\n",
       "      <td>eligibility</td>\n",
       "      <td>0.0</td>\n",
       "      <td>Кластер 0</td>\n",
       "      <td>several animated buried</td>\n",
       "      <td>5.772342</td>\n",
       "      <td>12.564796</td>\n",
       "      <td>1260</td>\n",
       "      <td>NaN</td>\n",
       "    </tr>\n",
       "    <tr>\n",
       "      <th>1</th>\n",
       "      <td>eligibility</td>\n",
       "      <td>0.0</td>\n",
       "      <td>Кластер 0</td>\n",
       "      <td>singles unusual buyers</td>\n",
       "      <td>14.829280</td>\n",
       "      <td>7.850729</td>\n",
       "      <td>866</td>\n",
       "      <td>NaN</td>\n",
       "    </tr>\n",
       "    <tr>\n",
       "      <th>2</th>\n",
       "      <td>eligibility</td>\n",
       "      <td>0.0</td>\n",
       "      <td>Кластер 0</td>\n",
       "      <td>hawaiian directive</td>\n",
       "      <td>11.381856</td>\n",
       "      <td>3.898137</td>\n",
       "      <td>163</td>\n",
       "      <td>NaN</td>\n",
       "    </tr>\n",
       "    <tr>\n",
       "      <th>3</th>\n",
       "      <td>eligibility</td>\n",
       "      <td>0.0</td>\n",
       "      <td>Кластер 0</td>\n",
       "      <td>dynamics directly</td>\n",
       "      <td>9.980149</td>\n",
       "      <td>6.281428</td>\n",
       "      <td>1146</td>\n",
       "      <td>NaN</td>\n",
       "    </tr>\n",
       "    <tr>\n",
       "      <th>4</th>\n",
       "      <td>eligibility</td>\n",
       "      <td>1.0</td>\n",
       "      <td>Кластер 1</td>\n",
       "      <td>decision surgeons montreal</td>\n",
       "      <td>3.283940</td>\n",
       "      <td>4.396741</td>\n",
       "      <td>823</td>\n",
       "      <td>NaN</td>\n",
       "    </tr>\n",
       "  </tbody>\n",
       "</table>\n",
       "</div>"
      ],
      "text/plain": [
       "          area  cluster cluster_name                     keyword          x  \\\n",
       "0  eligibility      0.0    Кластер 0     several animated buried   5.772342   \n",
       "1  eligibility      0.0    Кластер 0      singles unusual buyers  14.829280   \n",
       "2  eligibility      0.0    Кластер 0          hawaiian directive  11.381856   \n",
       "3  eligibility      0.0    Кластер 0           dynamics directly   9.980149   \n",
       "4  eligibility      1.0    Кластер 1  decision surgeons montreal   3.283940   \n",
       "\n",
       "           y count  color  \n",
       "0  12.564796  1260    NaN  \n",
       "1   7.850729   866    NaN  \n",
       "2   3.898137   163    NaN  \n",
       "3   6.281428  1146    NaN  \n",
       "4   4.396741   823    NaN  "
      ]
     },
     "execution_count": 10,
     "metadata": {},
     "output_type": "execute_result"
    }
   ],
   "source": [
    "data['color'] = pd.Series()\n",
    "data.head()"
   ]
  },
  {
   "cell_type": "markdown",
   "id": "a1766f5b",
   "metadata": {},
   "source": [
    "Цвет задается каждому словосочетанию согласно следующими правилам:\n",
    "* внутри одной области цвета словосочетаний в одном кластере должны быть одинаковые, в разных - отличаться (например, у \"Кластер 1\" все слова будут окрашены в красный, у \"Кластер 2\" - в зеленый и т.д.)\n",
    "* цвета кластеров в разных областях могут повторяться\n",
    "* цвета кластеров в разных областях с разным номером не имеют никакой связи (у одной области [area] слова из \"Кластер 1\" могут быть красного цвета, в другой области у слов из \"Кластер 1\" может быть другой цвет)\n",
    "\n",
    "По данному условию мы можем найти какое количество обозначений кластеров у нас есть - это и будет колличество наших цветов.  \n"
   ]
  },
  {
   "cell_type": "code",
   "execution_count": 11,
   "id": "70a5e520",
   "metadata": {},
   "outputs": [
    {
     "data": {
      "text/plain": [
       "1.0    62\n",
       "0.0    60\n",
       "2.0    59\n",
       "3.0    45\n",
       "Name: cluster, dtype: int64"
      ]
     },
     "execution_count": 11,
     "metadata": {},
     "output_type": "execute_result"
    }
   ],
   "source": [
    "data['cluster'].value_counts()"
   ]
  },
  {
   "cell_type": "markdown",
   "id": "8385157c",
   "metadata": {},
   "source": [
    "Значит будет 4 цвета. Т.к. их мало и не было сказано, как именно их надо задавать, то я задам их в ручную. В ином случае разумно былоб сделать генерацию цвета с привязкой к номеру. Т.е. цвета обозначать номерами. "
   ]
  },
  {
   "cell_type": "code",
   "execution_count": 12,
   "id": "085e131a",
   "metadata": {},
   "outputs": [],
   "source": [
    "dict_color = {0: 'red',\n",
    "              1:'blue',\n",
    "              2: 'green',\n",
    "              3: 'yellow'}"
   ]
  },
  {
   "cell_type": "code",
   "execution_count": 13,
   "id": "e674072c",
   "metadata": {},
   "outputs": [],
   "source": [
    "for key, value in dict_color.items():\n",
    "    data['color'] = np.where((data.cluster == key ), value, data.color)"
   ]
  },
  {
   "cell_type": "code",
   "execution_count": 14,
   "id": "2e08a37e",
   "metadata": {},
   "outputs": [
    {
     "data": {
      "text/html": [
       "<div>\n",
       "<style scoped>\n",
       "    .dataframe tbody tr th:only-of-type {\n",
       "        vertical-align: middle;\n",
       "    }\n",
       "\n",
       "    .dataframe tbody tr th {\n",
       "        vertical-align: top;\n",
       "    }\n",
       "\n",
       "    .dataframe thead th {\n",
       "        text-align: right;\n",
       "    }\n",
       "</style>\n",
       "<table border=\"1\" class=\"dataframe\">\n",
       "  <thead>\n",
       "    <tr style=\"text-align: right;\">\n",
       "      <th></th>\n",
       "      <th>area</th>\n",
       "      <th>cluster</th>\n",
       "      <th>cluster_name</th>\n",
       "      <th>keyword</th>\n",
       "      <th>x</th>\n",
       "      <th>y</th>\n",
       "      <th>count</th>\n",
       "      <th>color</th>\n",
       "    </tr>\n",
       "  </thead>\n",
       "  <tbody>\n",
       "    <tr>\n",
       "      <th>0</th>\n",
       "      <td>eligibility</td>\n",
       "      <td>0.0</td>\n",
       "      <td>Кластер 0</td>\n",
       "      <td>several animated buried</td>\n",
       "      <td>5.772342</td>\n",
       "      <td>12.564796</td>\n",
       "      <td>1260</td>\n",
       "      <td>red</td>\n",
       "    </tr>\n",
       "    <tr>\n",
       "      <th>1</th>\n",
       "      <td>eligibility</td>\n",
       "      <td>0.0</td>\n",
       "      <td>Кластер 0</td>\n",
       "      <td>singles unusual buyers</td>\n",
       "      <td>14.829280</td>\n",
       "      <td>7.850729</td>\n",
       "      <td>866</td>\n",
       "      <td>red</td>\n",
       "    </tr>\n",
       "    <tr>\n",
       "      <th>2</th>\n",
       "      <td>eligibility</td>\n",
       "      <td>0.0</td>\n",
       "      <td>Кластер 0</td>\n",
       "      <td>hawaiian directive</td>\n",
       "      <td>11.381856</td>\n",
       "      <td>3.898137</td>\n",
       "      <td>163</td>\n",
       "      <td>red</td>\n",
       "    </tr>\n",
       "    <tr>\n",
       "      <th>3</th>\n",
       "      <td>eligibility</td>\n",
       "      <td>0.0</td>\n",
       "      <td>Кластер 0</td>\n",
       "      <td>dynamics directly</td>\n",
       "      <td>9.980149</td>\n",
       "      <td>6.281428</td>\n",
       "      <td>1146</td>\n",
       "      <td>red</td>\n",
       "    </tr>\n",
       "    <tr>\n",
       "      <th>4</th>\n",
       "      <td>eligibility</td>\n",
       "      <td>1.0</td>\n",
       "      <td>Кластер 1</td>\n",
       "      <td>decision surgeons montreal</td>\n",
       "      <td>3.283940</td>\n",
       "      <td>4.396741</td>\n",
       "      <td>823</td>\n",
       "      <td>blue</td>\n",
       "    </tr>\n",
       "  </tbody>\n",
       "</table>\n",
       "</div>"
      ],
      "text/plain": [
       "          area  cluster cluster_name                     keyword          x  \\\n",
       "0  eligibility      0.0    Кластер 0     several animated buried   5.772342   \n",
       "1  eligibility      0.0    Кластер 0      singles unusual buyers  14.829280   \n",
       "2  eligibility      0.0    Кластер 0          hawaiian directive  11.381856   \n",
       "3  eligibility      0.0    Кластер 0           dynamics directly   9.980149   \n",
       "4  eligibility      1.0    Кластер 1  decision surgeons montreal   3.283940   \n",
       "\n",
       "           y count color  \n",
       "0  12.564796  1260   red  \n",
       "1   7.850729   866   red  \n",
       "2   3.898137   163   red  \n",
       "3   6.281428  1146   red  \n",
       "4   4.396741   823  blue  "
      ]
     },
     "execution_count": 14,
     "metadata": {},
     "output_type": "execute_result"
    }
   ],
   "source": [
    "data.head()"
   ]
  },
  {
   "cell_type": "markdown",
   "id": "de93afcf",
   "metadata": {},
   "source": [
    "Надо так же проверить, что бы небыло одинаковых словосочетаний в одной области. В условии не сказано, что с ними надо делать. Поэтому будем объединять в кластер так:\n",
    "* Если колличество в одном класторе больше - соединяем в него\n",
    "* Если колличество одинаково - объединяем произвольно\n",
    "\n",
    "Вот тут у меня начились проблемы с типом, которые я не нашла во время поиска несостыковок в данных. Пришлось искать, где я проглядела не числовые значения. По итогу просто удалила их.  "
   ]
  },
  {
   "cell_type": "code",
   "execution_count": 15,
   "id": "7a176e85",
   "metadata": {},
   "outputs": [],
   "source": [
    "b = []\n",
    "for i in data['count']:\n",
    "    if type(i)!=int: \n",
    "        b.append(i)  \n",
    "data = data.drop(index = data.index[data['count'].isin(b)]) # удаляю не числовые строки    \n",
    "data['count'] = data['count'].astype (int) # и преобразую все в числаы"
   ]
  },
  {
   "cell_type": "code",
   "execution_count": 16,
   "id": "056499d2",
   "metadata": {},
   "outputs": [],
   "source": [
    "list_area = data.area.unique()  "
   ]
  },
  {
   "cell_type": "code",
   "execution_count": 17,
   "id": "06303c3d",
   "metadata": {
    "scrolled": false
   },
   "outputs": [],
   "source": [
    "for i in list_area:\n",
    "    df = data.loc[data['area'] == i]\n",
    "    duplicateRows = df[df.duplicated(['keyword'])]\n",
    "    if not duplicateRows.empty: # проверяем, что датасет не пустой\n",
    "        list_dubl = duplicateRows['keyword'].tolist() # лист со словами-дублями\n",
    "        for dubl in list_dubl:\n",
    "            list_dubl_ind = df.index[ df['keyword'] == dubl].tolist() # индексы, где лежат дубликаты\n",
    "            ind = df[df['keyword'] == dubl]['count'].idxmax() # индекс, куда в и итоге мы объединяем             \n",
    "            data.at[ind, 'count'] = df[df['keyword'] == dubl]['count'].sum()\n",
    "\n",
    "            list_dubl_ind.remove(ind)\n",
    "            data = data.drop(index = list_dubl_ind) # удаляю дубли"
   ]
  },
  {
   "cell_type": "code",
   "execution_count": 18,
   "id": "9debb804",
   "metadata": {},
   "outputs": [],
   "source": [
    "data.to_excel('Processed_table.xlsx', index=False)"
   ]
  }
 ],
 "metadata": {
  "kernelspec": {
   "display_name": "Python 3 (ipykernel)",
   "language": "python",
   "name": "python3"
  },
  "language_info": {
   "codemirror_mode": {
    "name": "ipython",
    "version": 3
   },
   "file_extension": ".py",
   "mimetype": "text/x-python",
   "name": "python",
   "nbconvert_exporter": "python",
   "pygments_lexer": "ipython3",
   "version": "3.10.4"
  }
 },
 "nbformat": 4,
 "nbformat_minor": 5
}
